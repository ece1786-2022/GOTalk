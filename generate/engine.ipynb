{
 "cells": [
  {
   "cell_type": "code",
   "execution_count": 16,
   "metadata": {},
   "outputs": [],
   "source": [
    "from transformers import AutoTokenizer, AutoModelForCausalLM, pipeline\n",
    "\n",
    "model_name = \"huangtuoyue/GPT2-GOT2-finetuned\"\n",
    "\n",
    "generator = pipeline(\"text-generation\", model=model_name, tokenizer=model_name,\\\n",
    "    do_sample=True, max_length=100, temperature=1, top_p = 1, pad_token_id = 50256, repetition_penalty=1)\n",
    "\n",
    "output = generator(\"Once upon a time\")"
   ]
  },
  {
   "cell_type": "code",
   "execution_count": 17,
   "metadata": {},
   "outputs": [
    {
     "name": "stdout",
     "output_type": "stream",
     "text": [
      "[{'generated_text': 'Winter is coming.Winter is coming. The Stark words echo all around us, but Jon remembered the words of the last night he spent with the brothers. He ’ d felt the tears on his cheeks like blueberries on a melon. The bittersweet farewells of the two companions he ’ d spent so much time with. The silent promises of the evening. He remembered how he ’ d pleaded to sleep beside them, how he woke up in the dark and dagger in his hand'}]\n"
     ]
    }
   ],
   "source": [
    "output = generator(\"Winter is coming. \")\n",
    "print(output)"
   ]
  },
  {
   "cell_type": "code",
   "execution_count": 22,
   "metadata": {},
   "outputs": [],
   "source": [
    "from nltk.tokenize.treebank import TreebankWordDetokenizer"
   ]
  },
  {
   "cell_type": "code",
   "execution_count": 37,
   "metadata": {},
   "outputs": [
    {
     "data": {
      "text/plain": [
       "'hello test'"
      ]
     },
     "execution_count": 37,
     "metadata": {},
     "output_type": "execute_result"
    }
   ],
   "source": [
    "TreebankWordDetokenizer().detokenize([\"hello\", \"test\"])"
   ]
  },
  {
   "cell_type": "code",
   "execution_count": 48,
   "metadata": {},
   "outputs": [
    {
     "name": "stdout",
     "output_type": "stream",
     "text": [
      "winter is coming. Jon said \n",
      "invalid \n",
      "\n",
      "invalid \n",
      "\n",
      "invalid \n",
      "\n",
      "invalid \n",
      "\n",
      "invalid \n",
      "\n",
      "============= select dialogue ============\n",
      "A:The others are not so much. The Wall has men on it whose mothers were whores.; \n",
      "B:My lord, Lady Stark is waiting for me. She ’ s not going to let me leave Winterfell, not for a day or two. So I ’ ll stay a day and a night with him. Have you seen the Wall?; \n",
      "C: Yes, my lord. The Stark wordsmiths have done a man a kindness. They've carved his father ’ s brow into the likeness of a direwolf,\n",
      "Yes, my lord. The Stark wordsmiths have done a man a kindness. They've carved his father ’ s brow into the likeness of a direwolf,\n",
      "winter is coming. Jon said Yes, my lord. The Stark wordsmiths have done a man a kindness. They've carved his father ’ s brow into the likeness of a direwolf, he said. It ’ s the same as the one Jon saw on the kingsroad, only bigger.The next morning Jon heard Samwell Tarly declare that the middle name was bellied. He had ridden past the end of the world; he ’ d seen the Wall, and he\n",
      "context continue\n",
      "\n",
      "of a direwolf, he said. It ’ s the same as the one Jon saw on the kingsroad, only bigger.The next morning Jon heard Samwell Tarly declare that the middle name was bellied. He had ridden past the end of the world; he ’ d seen the Wall, and he ’ d sworn that he could feel it pressing down on him, and the air was colder than the breath of the First Men. When he told Eddard that the\n",
      "context continue\n",
      "\n",
      "name was bellied. He had ridden past the end of the world; he ’ d seen the Wall, and he ’ d sworn that he could feel it pressing down on him, and the air was colder than the breath of the First Men. When he told Eddard that the Wall was at his side, he did not sound as though he were breathing air. The air was colder than any knife he had ever felt. When he told him that he was at the Wall,\n",
      "context continue\n",
      "\n",
      "colder than the breath of the First Men. When he told Eddard that the Wall was at his side, he did not sound as though he were breathing air. The air was colder than any knife he had ever felt. When he told him that he was at the Wall, he sounded as though he were going to cry again.Jon urged them on as they walked, but Jon knew that he was not.When he and Sam climbed the tower steps, Jon ’ s tone was\n",
      "context continue\n",
      "\n",
      "knife he had ever felt. When he told him that he was at the Wall, he sounded as though he were going to cry again.Jon urged them on as they walked, but Jon knew that he was not.When he and Sam climbed the tower steps, Jon ’ s tone was flat and emotionless. He wanted to say, but he knew that what he would say, if he were to come straight from the stable, would be the last he would ever give to an authority.\n",
      "context continue\n",
      "\n",
      "he was not.When he and Sam climbed the tower steps, Jon ’ s tone was flat and emotionless. He wanted to say, but he knew that what he would say, if he were to come straight from the stable, would be the last he would ever give to an authority.His voice was high and emotionless, and Jon hated it. He wanted to spit on the ground, hate the people in it, hate the gods, but he couldn ’ t. He was\n",
      "context continue\n",
      "\n",
      "he were to come straight from the stable, would be the last he would ever give to an authority.His voice was high and emotionless, and Jon hated it. He wanted to spit on the ground, hate the people in it, hate the gods, but he couldn ’ t. He was so glad he was a bastard.His hand found itself shaking. He could feel the great weight of all that blame settling on him. All the hard work had gone on inside him. He was\n",
      "context continue\n",
      "\n",
      "invalid \n",
      "\n",
      "invalid \n",
      "\n",
      "============= select dialogue ============\n",
      "A:Are you ashamed of me?; \n",
      "B:So how do you feel now?; \n",
      "C: So why are you always so frightened? Jon asked.It ’ s because I ’ m a bastard,\n",
      "Are you ashamed of me?\n",
      "invalid \n",
      "\n",
      "in it, hate the gods, but he couldn ’ t. He was so glad he was a bastard.His hand found itself shaking. He could feel the great weight of all that blame settling on him. All the hard work had gone on inside him. He wasAre you ashamed of me? he asked Rast. The master-at-arms shrugged. A bastard is a soldier ’ s squire.Jon felt a coldness pass right through him. He pressed his lips together\n",
      "context continue\n",
      "\n",
      "great weight of all that blame settling on him. All the hard work had gone on inside him. He wasAre you ashamed of me? he asked Rast. The master-at-arms shrugged. A bastard is a soldier ’ s squire.Jon felt a coldness pass right through him. He pressed his lips together and made himself look at the face. A face that matched his own. He dared not look away.The guilt came pressing down on him as he waited behind R\n",
      "context continue\n",
      "\n",
      "shrugged. A bastard is a soldier ’ s squire.Jon felt a coldness pass right through him. He pressed his lips together and made himself look at the face. A face that matched his own. He dared not look away.The guilt came pressing down on him as he waited behind Rast. Down there in the dark, he ’ d heard the scrape of a boot on a stone. Perhaps that was why Lord Eddard had shon and shaved his beard.\n",
      "context continue\n",
      "\n",
      "face that matched his own. He dared not look away.The guilt came pressing down on him as he waited behind Rast. Down there in the dark, he ’ d heard the scrape of a boot on a stone. Perhaps that was why Lord Eddard had shon and shaved his beard.He was giving Jon a long look. The thought made him sad. There was a traitor ’ s nest deep in the woods. Could they all be like Jon ’ s friends?\n",
      "context continue\n",
      "\n",
      "scrape of a boot on a stone. Perhaps that was why Lord Eddard had shon and shaved his beard.He was giving Jon a long look. The thought made him sad. There was a traitor ’ s nest deep in the woods. Could they all be like Jon ’ s friends? he asked. My friends, his voice cut through the gloom of the armory. He remembered how he and Robb had gone to the armory. How happy they were. With their\n",
      "context continue\n",
      "\n",
      "There was a traitor ’ s nest deep in the woods. Could they all be like Jon ’ s friends? he asked. My friends, his voice cut through the gloom of the armory. He remembered how he and Robb had gone to the armory. How happy they were. With their permission?The armory was quiet. Too quiet. For a moment Jon ’ s heart sunk.Then he heard the laughter, sharp and insipid. Because I ’ m a\n",
      "context continue\n",
      "\n",
      "cut through the gloom of the armory. He remembered how he and Robb had gone to the armory. How happy they were. With their permission?The armory was quiet. Too quiet. For a moment Jon ’ s heart sunk.Then he heard the laughter, sharp and insipid. Because I ’ m a lord, Jon thought, I ’ m a lord, and you ’ re a boy. What of it?He tried to sit very straight, to\n",
      "context continue\n",
      "\n",
      "their permission?The armory was quiet. Too quiet. For a moment Jon ’ s heart sunk.Then he heard the laughter, sharp and insipid. Because I ’ m a lord, Jon thought, I ’ m a lord, and you ’ re a boy. What of it?He tried to sit very straight, to make himself seem taller. But he was too scared to come stand by the door. He pushed it inward, fighting to keep it from closing\n",
      "context continue\n",
      "\n",
      "invalid \n",
      "\n",
      "invalid \n",
      "\n",
      "invalid \n",
      "\n",
      "invalid \n",
      "\n",
      "invalid \n",
      "\n",
      "invalid \n",
      "\n",
      "invalid \n",
      "\n",
      "============= select dialogue ============\n",
      "A:Let me stand,; \n",
      "B:Let me stand by the door, and I can ’ t. I ’ m afraid of what might happen.; \n",
      "C: It ’ s a lie,\n",
      "It ’ s a lie,\n"
     ]
    }
   ],
   "source": [
    "f = open(\"./context.txt\",\"w\")\n",
    "incorrect_generation = 0\n",
    "total = 0\n",
    "context = \"winter is coming. Jon said \"\n",
    "print(context)\n",
    "f.write(context)\n",
    "ITERATION = 3\n",
    "BOS = \"[BOS]\"\n",
    "EOS = \"[EOS]\"\n",
    "i = 0\n",
    "options = []\n",
    "pred_dialogue = False\n",
    "while i < ITERATION:\n",
    "    prev_context_end = len(context)\n",
    "    context_list = context.split()\n",
    "    if len(context_list) < 50: # used last 50 words to generate new context\n",
    "        run_context = TreebankWordDetokenizer().detokenize(context_list)\n",
    "    else: \n",
    "        run_context = TreebankWordDetokenizer().detokenize(context_list[-50:])\n",
    "    if pred_dialogue:\n",
    "        run_context += \" [BOS]\"\n",
    "    pred = generator(run_context)[0][\"generated_text\"]\n",
    "    # print(pred)\n",
    "    total += 1\n",
    "    # check [BOS]\n",
    "    words = pred.split()\n",
    "    eos_list = []\n",
    "    bos_list = []\n",
    "    for j, word in enumerate(words): \n",
    "        if word == BOS: \n",
    "            bos_list.append(j)\n",
    "        elif word == EOS:\n",
    "            eos_list.append(j)\n",
    "    if len(eos_list) == len(bos_list) and len(eos_list) == 0 and not pred_dialogue:\n",
    "        # a new context \n",
    "        context = pred\n",
    "        print(context)\n",
    "        f.write(context)\n",
    "        print(\"context continue\\n\")\n",
    "    elif len(eos_list) != len(bos_list): \n",
    "        print(\"invalid \\n\")\n",
    "        #discard\n",
    "        incorrect_generation += 1\n",
    "    else:\n",
    "        # valid bos eos position\n",
    "        valid = True \n",
    "        for j, value in enumerate(bos_list): \n",
    "            if eos_list[j] < value: \n",
    "                valid = False\n",
    "            if j > 0 and value < eos_list[j-1]: \n",
    "                # bos bos eos\n",
    "                valid = False\n",
    "        if not valid: \n",
    "            print(\"invalid\\n\")\n",
    "            incorrect_generation += 1\n",
    "        else:\n",
    "            # valid option\n",
    "            option = TreebankWordDetokenizer().detokenize(words[bos_list[0]+1:eos_list[0]])\n",
    "            options.append(option)\n",
    "            pred_dialogue = True\n",
    "            if len(options) == 3: \n",
    "                print(\"============= select dialogue ============\")\n",
    "                f.write(\"============= select dialogue ============\")\n",
    "                print(\"A:{}; \\nB:{}; \\nC: {}\".format(options[0], options[1], options[2]))\n",
    "                d = {\"A\": options[0], \"B\": options[1], \"C\": options[2]}\n",
    "                f.write(str(d))\n",
    "                valid = False\n",
    "                while not valid:\n",
    "                    user_input = input()\n",
    "                    if user_input in [\"A\", \"B\", \"C\"]: \n",
    "                        valid = True \n",
    "                \n",
    "                print(d[user_input])\n",
    "                f.write(d[user_input])\n",
    "                context += (d[user_input])\n",
    "                options = []\n",
    "                i += 1\n",
    "                pred_dialogue = False\n",
    "\n",
    "f.close()"
   ]
  },
  {
   "cell_type": "code",
   "execution_count": 49,
   "metadata": {},
   "outputs": [
    {
     "name": "stdout",
     "output_type": "stream",
     "text": [
      "15 39\n"
     ]
    }
   ],
   "source": [
    "print(incorrect_generation, total)"
   ]
  }
 ],
 "metadata": {
  "kernelspec": {
   "display_name": "Python 3.7.13 ('ECE1786')",
   "language": "python",
   "name": "python3"
  },
  "language_info": {
   "codemirror_mode": {
    "name": "ipython",
    "version": 3
   },
   "file_extension": ".py",
   "mimetype": "text/x-python",
   "name": "python",
   "nbconvert_exporter": "python",
   "pygments_lexer": "ipython3",
   "version": "3.7.13"
  },
  "orig_nbformat": 4,
  "vscode": {
   "interpreter": {
    "hash": "6ac98cdf959e0cfc9a2a87b1d0a754a60151d74d55f7e6c3aa8003f1c5863c82"
   }
  }
 },
 "nbformat": 4,
 "nbformat_minor": 2
}
