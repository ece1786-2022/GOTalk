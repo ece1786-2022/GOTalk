{
 "cells": [
  {
   "cell_type": "code",
   "execution_count": 66,
   "metadata": {},
   "outputs": [],
   "source": [
    "from nltk.tokenize import word_tokenize\n",
    "from nltk.tokenize.treebank import TreebankWordDetokenizer\n",
    "file = open(\"./txtfiles/got1_Jon.txt\", \"r\")\n",
    "testfile = open(\"Jon_1.txt\",\"w\")"
   ]
  },
  {
   "cell_type": "code",
   "execution_count": 68,
   "metadata": {},
   "outputs": [
    {
     "name": "stdout",
     "output_type": "stream",
     "text": [
      "Something rubbed against his leg beneath the table . Jon saw red eyes staring up at him . “ Hungry again? ” he asked . There was still half a honeyed chicken in the center of the table . Jon reached out to tear off a leg, then had a better idea . He knifed the bird whole and let the carcass slide to the floor between his legs . Ghost ripped into it in savage silence . His brothers and sisters had not been permitted to bring their wolves to the banquet, but there were more curs than Jon could count at this end of the hall, and no one had said a word about his pup . He told himself he was fortunate in that too.\n",
      "\n",
      "\n",
      "Benjen gave Jon a careful, measuring look . “ You don ’ t miss much, do you, Jon? We could use a man like you on the Wall . ”\n",
      "\n",
      "\n",
      "Uncle Benjen studied his face carefully . “ The Wall is a hard place for a boy, Jon . ”\n",
      "\n",
      "\n",
      "“ That ’ s true enough, ” Benjen said with a downward twist of his mouth . He took Jon ’ s cup from the table, filled it fresh from a nearby pitcher, and drank down a long swallow.\n",
      "\n",
      "\n",
      "“ Daeren Targaryen was only fourteen when he conquered Dorne, ” Jon said . The Young Dragon was one of his heroes.\n",
      "\n",
      "\n",
      "“ You don ’ t know what you ’ re asking, Jon . The Night ’ s Watch is a sworn brotherhood . We have no families . None of us will ever father sons . Our wife is duty . Our mistress is honor . ”\n",
      "\n",
      "\n",
      "“ I don ’ t care about that! ” Jon said hotly.\n",
      "\n",
      "\n",
      "“ I must be excused, ” he said with the last of his dignity . He whirled and bolted before they could see him cry . He must have drunk more wine than he had realized . His feet got tangled under him as he tried to leave, and he lurched sideways into a serving girl and sent a flagon of spiced wine crashing to the floor . Laughter boomed all around him, and Jon felt hot tears on his cheeks . Someone tried to steady him . He wrenched free of their grip and ran, half-blind, for the door . Ghost followed close at his heels, out into the night.\n",
      "\n",
      "\n"
     ]
    }
   ],
   "source": [
    "# <S>, <E>\n",
    "\n",
    "# for i in range(2205):\n",
    "for i in range(100):\n",
    "    line = file.readline()\n",
    "    if line != \"\\n\":\n",
    "        word_ls = word_tokenize(line)\n",
    "        # # Case 1:\n",
    "        # if word_ls[0] == 'Jon':\n",
    "        #     count_qua = word_ls.count('“')\n",
    "        #     if count_qua == 1:\n",
    "        #         word_ls = list(map(lambda x: x.replace('“', '<START>'), word_ls))\n",
    "        #         word_ls = list(map(lambda x: x.replace('”', '<END>'), word_ls))\n",
    "        #         print(TreebankWordDetokenizer().detokenize(word_ls))\n",
    "        #         print('\\n')\n",
    "        # Case 3\n",
    "        if word_ls[0] != 'Jon' and 'Jon' in word_ls:\n",
    "            count_qua = word_ls.count('“')\n",
    "            if count_qua == 1:\n",
    "                print(TreebankWordDetokenizer().detokenize(word_ls))\n",
    "                print('\\n')\n",
    "            # print(word_ls)\n",
    "        \n",
    "#         testfile.write(line)\n",
    "# testfile.close()"
   ]
  },
  {
   "cell_type": "code",
   "execution_count": 37,
   "metadata": {},
   "outputs": [
    {
     "data": {
      "text/plain": [
       "1"
      ]
     },
     "execution_count": 37,
     "metadata": {},
     "output_type": "execute_result"
    }
   ],
   "source": [
    "test = ['Jon', 'felt', 'anger', 'rise', 'inside', 'him', '.', '“', 'I', '’', 'm', 'not', 'your', 'son', '!', '”']\n",
    "count_qua = test.count('“')\n",
    "count_qua"
   ]
  },
  {
   "cell_type": "code",
   "execution_count": 46,
   "metadata": {},
   "outputs": [
    {
     "data": {
      "text/plain": [
       "'Jon felt anger rise inside him . “ I ’ m not your son! ”'"
      ]
     },
     "execution_count": 46,
     "metadata": {},
     "output_type": "execute_result"
    }
   ],
   "source": [
    "\n",
    "TreebankWordDetokenizer().detokenize(test)\n"
   ]
  },
  {
   "cell_type": "code",
   "execution_count": 36,
   "metadata": {},
   "outputs": [
    {
     "ename": "ValueError",
     "evalue": "I/O operation on closed file.",
     "output_type": "error",
     "traceback": [
      "\u001b[0;31m---------------------------------------------------------------------------\u001b[0m",
      "\u001b[0;31mValueError\u001b[0m                                Traceback (most recent call last)",
      "\u001b[0;32m/var/folders/m9/gmj8bd1s4vx4jjbkz6r5m4lm0000gn/T/ipykernel_68964/1659275233.py\u001b[0m in \u001b[0;36m<module>\u001b[0;34m\u001b[0m\n\u001b[0;32m----> 1\u001b[0;31m \u001b[0mtestfile\u001b[0m\u001b[0;34m.\u001b[0m\u001b[0mreadline\u001b[0m\u001b[0;34m(\u001b[0m\u001b[0;34m)\u001b[0m\u001b[0;34m\u001b[0m\u001b[0;34m\u001b[0m\u001b[0m\n\u001b[0m",
      "\u001b[0;31mValueError\u001b[0m: I/O operation on closed file."
     ]
    }
   ],
   "source": [
    "testfile.readline()"
   ]
  },
  {
   "cell_type": "code",
   "execution_count": null,
   "metadata": {},
   "outputs": [],
   "source": []
  }
 ],
 "metadata": {
  "kernelspec": {
   "display_name": "Python 3.7.13 ('ECE1786')",
   "language": "python",
   "name": "python3"
  },
  "language_info": {
   "codemirror_mode": {
    "name": "ipython",
    "version": 3
   },
   "file_extension": ".py",
   "mimetype": "text/x-python",
   "name": "python",
   "nbconvert_exporter": "python",
   "pygments_lexer": "ipython3",
   "version": "3.7.13"
  },
  "orig_nbformat": 4,
  "vscode": {
   "interpreter": {
    "hash": "d128fe176aead1b5f2c446f268fcdf10cba0d3cb275513d8767b97bd302f321f"
   }
  }
 },
 "nbformat": 4,
 "nbformat_minor": 2
}
